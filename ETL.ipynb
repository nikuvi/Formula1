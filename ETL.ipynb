{
 "cells": [
  {
   "cell_type": "code",
   "execution_count": null,
   "id": "509179c5",
   "metadata": {},
   "outputs": [],
   "source": [
    "import numpy as np\n",
    "import pandas as pd\n",
    "import warnings\n",
    "\n",
    "warnings.filterwarnings('ignore')\n",
    "pd.set_option('display.max_rows', None)    # Muestra todas las filas (para muchas columnas)\n",
    "pd.set_option('display.max_columns', None) # Muestra todas las columnas\n",
    "pd.set_option('display.width', None)       # Ajusta el ancho\n",
    "pd.set_option('display.max_colwidth', None)# Muestra todo el contenido de cada celda"
   ]
  },
  {
   "cell_type": "code",
   "execution_count": null,
   "id": "eaaf9984",
   "metadata": {},
   "outputs": [],
   "source": [
    "circuits = pd.read_csv('csv_originales/1/circuits.csv')\n",
    "drivers = pd.read_csv('csv_originales/1/drivers.csv')\n",
    "constructors = pd.read_csv('csv_originales/1/constructors.csv')\n",
    "constructors_results = pd.read_csv('csv_originales/1/constructor_results.csv')\n",
    "results = pd.read_csv('csv_originales/1/results.csv')\n",
    "races = pd.read_csv('csv_originales/1/races.csv')\n",
    "status = pd.read_csv('csv_originales/1/status.csv')\n",
    "sprint_results = pd.read_csv('csv_originales/1/sprint_results.csv')\n",
    "seasons = pd.read_csv('csv_originales/1/seasons.csv')\n",
    "qualifying = pd.read_csv('csv_originales/1/qualifying.csv')\n",
    "pit_stops = pd.read_csv('csv_originales/1/pit_stops.csv')\n",
    "lap_times = pd.read_csv('csv_originales/1/lap_times.csv')\n",
    "drivers_standings = pd.read_csv('csv_originales/1/driver_standings.csv')\n",
    "constructors_standings = pd.read_csv('csv_originales/1/constructor_standings.csv')\n"
   ]
  },
  {
   "cell_type": "markdown",
   "id": "051f31cc",
   "metadata": {},
   "source": [
    "Corrigo la columna 'number', ya que tiene formato de object y contiene varios datos nulos."
   ]
  },
  {
   "cell_type": "code",
   "execution_count": null,
   "id": "b90ab230",
   "metadata": {},
   "outputs": [],
   "source": [
    "drivers[\"number\"] = drivers[\"number\"].replace(r\"\\N\", np.nan) # Reemplaza \"\\N\" con NaN\n",
    "drivers[\"number\"] = pd.to_numeric(drivers[\"number\"], errors='coerce') # Convierte a numérico, forzando errores a NaN\n",
    "drivers[\"number\"] = drivers[\"number\"].fillna(0) # Rellena NaN con 0\n",
    "drivers[\"number\"] = drivers[\"number\"].astype(\"int64\") # Convierte a int64, eliminando NaN"
   ]
  },
  {
   "cell_type": "code",
   "execution_count": null,
   "id": "ebbbff37",
   "metadata": {},
   "outputs": [],
   "source": [
    "drivers"
   ]
  },
  {
   "cell_type": "code",
   "execution_count": null,
   "id": "9033bc31",
   "metadata": {},
   "outputs": [],
   "source": [
    "drivers.info()"
   ]
  },
  {
   "cell_type": "code",
   "execution_count": null,
   "id": "b00616fb",
   "metadata": {},
   "outputs": [],
   "source": [
    "drivers.isnull().sum()  # Verifica si hay valores nulos"
   ]
  },
  {
   "cell_type": "markdown",
   "id": "e3bd1769",
   "metadata": {},
   "source": [
    "Rellenar la columna de 'code' con los codigos faltantes a partir de las primeras 3 letras del apellido de cada piloto."
   ]
  },
  {
   "cell_type": "code",
   "execution_count": null,
   "id": "b65f640e",
   "metadata": {},
   "outputs": [],
   "source": [
    "drivers['code'] = drivers.apply(\n",
    "    lambda row: ''.join(row['surname'].replace(' ', '')[:3]).upper() if row['code'] == '\\\\N' else row['code'],\n",
    "    axis=1\n",
    ")\n",
    "# Reemplaza el código de los pilotos que es \"\\N\" por las primeras 3 letras del apellido en mayúsculas\n"
   ]
  },
  {
   "cell_type": "code",
   "execution_count": null,
   "id": "07d8d5c0",
   "metadata": {},
   "outputs": [],
   "source": [
    "numeros_pilotos = {\n",
    "    \"heidfeld\": 9,\n",
    "    \"kovalainen\": 7,\n",
    "    \"nakajima\": 17,\n",
    "    \"bourdais\": 11,\n",
    "    \"glock\": 24,\n",
    "    \"sato\": 18,\n",
    "    \"piquet_jr\": 8,\n",
    "    \"coulthard\": 9,\n",
    "    \"trulli\": 21,\n",
    "    \"webber\": 2,\n",
    "    \"davidson\": 19,\n",
    "    \"fisichella\": ,\n",
    "    \"barrichello\": ,\n",
    "    \"ralf_schumacher\"\": ,\n",
    "    \"liuzzi\": ,\n",
    "    \"wurz\": ,\n",
    "    \"speed\": ,\n",
    "    \"albers\": ,\n",
    "    \"markus_winkelhock\": ,\n",
    "    \"yamamoto\": ,\n",
    "    \"michael_schumacher\": ,\n",
    "    \"montoya\": ,\n",
    "    \"klien\": ,\n",
    "    \"monteiro\": ,\n",
    "    \"ide\": ,\n",
    "    \"villeneuve\": ,\n",
    "    \"montagny\": ,\n",
    "    \"rosa\": ,\n",
    "    \"doornbos\": ,\n",
    "    \"karthikeyan\": ,\n",
    "    \"friesacher\": ,\n",
    "    \"zonta\": ,\n",
    "    \"pizzonia\": ,\n",
    "    \"matta\": ,\n",
    "    \"panis\": ,\n",
    "    \"pantano\": ,\n",
    "    \"bruni\": ,\n",
    "    \"baumgartner\": ,\n",
    "    \"gene\": ,\n",
    "    \"frentzen\": ,\n",
    "    \"verstappen\": ,\n",
    "    \"wilson\": ,\n",
    "    \"firman\": ,\n",
    "    \"kiesa\": ,\n",
    "    \"burti\": ,\n",
    "    \"alesi\": ,\n",
    "    \"irvine\": ,\n",
    "    \"hakkinen\": ,\n",
    "    \"marques\": ,\n",
    "    \"bernoldi\": ,\n",
    "    \"mazzacane\": ,\n",
    "    \"enge\": ,\n",
    "    \"yoong\": ,\n",
    "    \"salo\": ,\n",
    "    \"diniz\": ,\n",
    "    \"herbert\": ,\n",
    "    \"mcnish\": ,\n",
    "    \"buemi\": ,\n",
    "    \"takagi\": ,\n",
    "    \"badoer\": ,\n",
    "    \"zanardi\": ,\n",
    "    \"damon_hill\": ,\n",
    "    \"sarrazin\": ,\n",
    "    \"rosset\": ,\n",
    "    \"tuero\": ,\n",
    "    \"nakano\": ,\n",
    "    \"magnussen\": ,\n",
    "    \"berger\": ,\n",
    "    \"larini\": ,\n",
    "    \"katayama\": ,\n",
    "    \"sospiri\": ,\n",
    "    \"morbidelli\": ,\n",
    "    \"fontana\": ,\n",
    "    \"lamy\": ,\n",
    "    \"brundle\": ,\n",
    "    \"montermini\": ,\n",
    "    \"lavaggi\": ,\n",
    "    \"blundell\": ,\n",
    "    \"suzuki\": ,\n",
    "    \"inoue\": ,\n",
    "    \"moreno\": ,\n",
    "    \"wendlinger\": ,\n",
    "    \"gachot\": ,\n",
    "    \"schiattarella\": ,\n",
    "    \"martini\": ,\n",
    "    \"mansell\": ,\n",
    "    \"boullion\": ,\n",
    "    \"papis\": ,\n",
    "    \"deletraz\": ,\n",
    "    \"tarquini\": ,\n",
    "    \"comas\": ,\n",
    "    \"brabham\": ,\n",
    "    \"senna\": ,\n",
    "    \"bernard\": ,\n",
    "    \"fittipaldi\": ,\n",
    "    \"alboreto\": ,\n",
    "    \"beretta\": ,\n",
    "    \"ratzenberger\": ,\n",
    "    \"belmondo\": ,\n",
    "    \"lehto\": ,\n",
    "    \"cesaris\": ,\n",
    "    \"gounon\": ,\n",
    "    \"alliot\": ,\n",
    "    \"adams\": ,\n",
    "    \"dalmas\": ,\n",
    "    \"noda\": ,\n",
    "    \"lagorce\": ,\n",
    "    \"prost\": ,\n",
    "    \"warwick\": ,\n",
    "    \"patrese\": ,\n",
    "    \"barbazza\": ,\n",
    "    \"andretti\": ,\n",
    "    \"capelli\": ,\n",
    "    \"boutsen\": ,\n",
    "    \"apicella\": ,\n",
    "    \"naspetti\": ,\n",
    "    \"toshio_suzuki\": ,\n",
    "    \"gugelmin\": ,\n",
    "    \"poele\": ,\n",
    "    \"grouillard\": ,\n",
    "    \"chiesa\": ,\n",
    "    \"modena\": ,\n",
    "    \"amati\": ,\n",
    "    \"caffi\": ,\n",
    "    \"bertaggia\": ,\n",
    "    \"mccarthy\": ,\n",
    "    \"lammers\": ,\n",
    "    \"piquet\": ,\n",
    "    \"satoru_nakajima\": ,\n",
    "    \"pirro\": ,\n",
    "    \"johansson\": ,\n",
    "    \"bailey\": ,\n",
    "    \"chaves\": ,\n",
    "    \"bartels\": ,\n",
    "    \"hattori\": ,\n",
    "    \"nannini\": ,\n",
    "    \"schneider\": ,\n",
    "    \"barilla\": ,\n",
    "    \"foitek\": ,\n",
    "    \"langes\": ,\n",
    "    \"gary_brabham\": ,\n",
    "    \"donnelly\": ,\n",
    "    \"giacomelli\": ,\n",
    "    \"alguersuari\": ,\n",
    "    }\n"
   ]
  },
  {
   "cell_type": "code",
   "execution_count": null,
   "id": "0dd43a30",
   "metadata": {},
   "outputs": [],
   "source": [
    "drivers.rename(columns={\"code\": \"Code\"}, inplace=True) # Renombrar la columna \"code\" a \"Code\""
   ]
  },
  {
   "cell_type": "markdown",
   "id": "07344bd3",
   "metadata": {},
   "source": [
    "Cambio el nombre de la columna 'dob' por 'Nacimiento' y le doy formato de fecha"
   ]
  },
  {
   "cell_type": "code",
   "execution_count": null,
   "id": "d379aa81",
   "metadata": {},
   "outputs": [],
   "source": [
    "drivers"
   ]
  },
  {
   "cell_type": "code",
   "execution_count": null,
   "id": "c8c591b9",
   "metadata": {},
   "outputs": [],
   "source": [
    "drivers.rename(columns={\"dob\": \"born\"}, inplace=True) # Renombrar la columna \"dob\" a \"Nacimiento\"\n",
    "drivers['born'] = pd.to_datetime(drivers['born'], errors='coerce').dt.date # Convertir la columna \"Nacimiento\" a tipo fecha y eliminar errores\n"
   ]
  },
  {
   "cell_type": "code",
   "execution_count": null,
   "id": "3630e962",
   "metadata": {},
   "outputs": [],
   "source": [
    "drivers['driverRef'] = drivers['driverRef'].str.lower()  # Convertir a minúsculas"
   ]
  },
  {
   "cell_type": "markdown",
   "id": "441f227d",
   "metadata": {},
   "source": [
    "Elimino columnas que no voy a utilizar o no son importantes"
   ]
  },
  {
   "cell_type": "code",
   "execution_count": null,
   "id": "8cca057f",
   "metadata": {},
   "outputs": [],
   "source": [
    "drivers.drop(columns=['driverId', 'number'], inplace=True) # Eliminar las columnas \"driverId\" y \"number\""
   ]
  },
  {
   "cell_type": "markdown",
   "id": "fb297bb4",
   "metadata": {},
   "source": [
    "_________"
   ]
  },
  {
   "cell_type": "code",
   "execution_count": null,
   "id": "8bea36c1",
   "metadata": {},
   "outputs": [],
   "source": [
    "# Subir archivo modificado de drivers\n",
    "drivers.to_csv('csv_limpios/drivers_c.csv', index=False)\n",
    "drivers_c = pd.read_csv('csv_limpios/drivers_c.csv')"
   ]
  },
  {
   "cell_type": "code",
   "execution_count": null,
   "id": "c96f9daf",
   "metadata": {},
   "outputs": [],
   "source": [
    "drivers_c"
   ]
  },
  {
   "cell_type": "markdown",
   "id": "9cc1c6f4",
   "metadata": {},
   "source": [
    "_____________"
   ]
  },
  {
   "cell_type": "markdown",
   "id": "f0e975f9",
   "metadata": {},
   "source": [
    "### drivers_updated.csv"
   ]
  },
  {
   "cell_type": "code",
   "execution_count": null,
   "id": "6878aca2",
   "metadata": {},
   "outputs": [],
   "source": [
    "drivers_updated = pd.read_csv('csv_originales/3/drivers_updated.csv')\n",
    "fastest_laps_updated = pd.read_csv('csv_originales/3/fastest_laps_updated.csv')\n",
    "teams_updated = pd.read_csv('csv_originales/3/teams_updated.csv')\n",
    "winners = pd.read_csv('csv_originales/3/winners.csv')"
   ]
  },
  {
   "cell_type": "code",
   "execution_count": null,
   "id": "3f1f937a",
   "metadata": {},
   "outputs": [],
   "source": [
    "drivers_updated"
   ]
  },
  {
   "cell_type": "markdown",
   "id": "9f3be316",
   "metadata": {},
   "source": [
    "Buscador por columnas"
   ]
  },
  {
   "cell_type": "code",
   "execution_count": null,
   "id": "8771591d",
   "metadata": {},
   "outputs": [],
   "source": [
    "#drivers_updated[['Driver', 'Car']].sort_values(by='Driver').reset_index(drop=True) # Muestra los pilotos y sus coches ordenados alfabéticamente\n",
    "drivers_updated[drivers_updated['Driver'].str.contains('Alonso')].sort_values(by='year').reset_index(drop=True) # Muestra los años en que Alonso corrió y con qué coche"
   ]
  },
  {
   "cell_type": "markdown",
   "id": "5fe4c8ad",
   "metadata": {},
   "source": [
    "### Renombrar la columna \"Pos\" a \"Final_Pos\""
   ]
  },
  {
   "cell_type": "code",
   "execution_count": null,
   "id": "4d5afbc1",
   "metadata": {},
   "outputs": [],
   "source": [
    "drivers_updated.rename(columns={\"Pos\": \"Final_Pos\"}, inplace=True) # Renombrar la columna \"Pos\" a \"Driver_ID\"\n"
   ]
  },
  {
   "cell_type": "markdown",
   "id": "d48e2559",
   "metadata": {},
   "source": [
    "**\\**Creo columna 'Driver_ID' y la posiciono primera"
   ]
  },
  {
   "cell_type": "code",
   "execution_count": null,
   "id": "e590f8eb",
   "metadata": {},
   "outputs": [],
   "source": [
    "drivers_updated['Driver_ID'] = range(1, len(drivers_updated) + 1) # Asigna un ID único a cada piloto\n",
    "cols = ['Driver_ID'] + [col for col in drivers_updated.columns if col != 'Driver_ID'] # Reordena las columnas para que 'Driver_ID' sea la primera\n",
    "drivers_updated = drivers_updated[cols] # Reordena las columnas para que 'Driver_ID' sea la primera\n",
    "drivers_updated['Driver_ID'] = drivers_updated['Driver_ID'].astype('int64') # Asegura que 'Driver_ID' sea de tipo int64"
   ]
  },
  {
   "cell_type": "markdown",
   "id": "bc6b0e3f",
   "metadata": {},
   "source": [
    "### Posiciono ultima la columna 'Final_Pos'"
   ]
  },
  {
   "cell_type": "code",
   "execution_count": null,
   "id": "d98aa060",
   "metadata": {},
   "outputs": [],
   "source": [
    "cols = [col for col in drivers_updated.columns if col != 'Final_Pos'] + ['Final_Pos'] # Reordena las columnas para que 'Final_Pos' sea la última\n",
    "drivers_updated = drivers_updated[cols] # Reordena las columnas para que 'Final_Pos' sea la última"
   ]
  },
  {
   "cell_type": "markdown",
   "id": "f9c9bb1d",
   "metadata": {},
   "source": [
    "------"
   ]
  },
  {
   "cell_type": "markdown",
   "id": "cf22905f",
   "metadata": {},
   "source": [
    "Buscador"
   ]
  },
  {
   "cell_type": "code",
   "execution_count": null,
   "id": "f1d41618",
   "metadata": {},
   "outputs": [],
   "source": [
    "#resultado = drivers_updated[drivers_updated['Driver'].str.contains('piastri', case=False, na=False)] # Filtra por nombre\n",
    "resultado = drivers[drivers['surname'].str.contains('Piastri', case=False, na=False)] # Filtra por nombre \"Franco\"\n"
   ]
  },
  {
   "cell_type": "code",
   "execution_count": null,
   "id": "997c6c68",
   "metadata": {},
   "outputs": [],
   "source": [
    "resultado"
   ]
  },
  {
   "cell_type": "markdown",
   "id": "7a685c8f",
   "metadata": {},
   "source": [
    "___________________"
   ]
  },
  {
   "cell_type": "code",
   "execution_count": null,
   "id": "1fa13c70",
   "metadata": {},
   "outputs": [],
   "source": [
    "drivers_updated"
   ]
  },
  {
   "cell_type": "code",
   "execution_count": null,
   "id": "e845b69a",
   "metadata": {},
   "outputs": [],
   "source": [
    "drivers_c"
   ]
  },
  {
   "cell_type": "markdown",
   "id": "aac25ec4",
   "metadata": {},
   "source": [
    "Mostrar codigos que no coinciden de las columnas 'Code'"
   ]
  },
  {
   "cell_type": "code",
   "execution_count": null,
   "id": "c06097e6",
   "metadata": {},
   "outputs": [],
   "source": [
    "drivers_updated['driverRef'] = drivers_updated['Driver'].apply(lambda x: x.split()[-1].lower()) # Crea una nueva columna 'driversRef' con el apellido en minúsculas"
   ]
  },
  {
   "cell_type": "code",
   "execution_count": null,
   "id": "20a43463",
   "metadata": {},
   "outputs": [],
   "source": [
    "# Mostrar códigos que no están en drivers\n",
    "missing_codes = drivers_updated[drivers_updated['driverRef'].isin(drivers_c['driverRef'])]\n",
    "print(\"Driver que no coinciden:\")\n",
    "print(missing_codes['driverRef'].unique())\n"
   ]
  },
  {
   "cell_type": "markdown",
   "id": "3addfe88",
   "metadata": {},
   "source": [
    "_______________"
   ]
  },
  {
   "cell_type": "markdown",
   "id": "5088f63b",
   "metadata": {},
   "source": [
    "### Hago un merge de la columna 'dob' de la tabla 'drivers' hacia la tabla 'drivers_updated'"
   ]
  },
  {
   "cell_type": "code",
   "execution_count": null,
   "id": "eb10cc5f",
   "metadata": {},
   "outputs": [],
   "source": [
    "drivers_updated['apellido'] = drivers_updated['Driver'].str.split().str[-1] # Extrae el apellido del nombre completo"
   ]
  },
  {
   "cell_type": "code",
   "execution_count": null,
   "id": "8dd5f606",
   "metadata": {},
   "outputs": [],
   "source": [
    "drivers_updated['apellido'] = drivers_updated['apellido'].str.lower() # Convierte el apellido a minúsculas"
   ]
  },
  {
   "cell_type": "code",
   "execution_count": null,
   "id": "c5de54e3",
   "metadata": {},
   "outputs": [],
   "source": [
    "drivers_updated = drivers_updated.merge(\n",
    "    drivers[['surname', 'Nacimiento']],\n",
    "    left_on='apellido',\n",
    "    right_on='surname',\n",
    "    how='left'\n",
    ")\n",
    "\n",
    "\n",
    "# Eliminamos la columna 'driverRef' duplicada si ya no la necesitás\n",
    "drivers_updated.drop(columns=['apellido', 'surname'], inplace=True)\n",
    "\n"
   ]
  },
  {
   "cell_type": "code",
   "execution_count": null,
   "id": "7292f2d0",
   "metadata": {},
   "outputs": [],
   "source": [
    "drivers_updated.drop(columns=['apellido'], inplace=True) # Eliminamos la columna 'Driver' si ya no la necesitás"
   ]
  },
  {
   "cell_type": "code",
   "execution_count": null,
   "id": "303ad29e",
   "metadata": {},
   "outputs": [],
   "source": [
    "drivers_updated"
   ]
  },
  {
   "cell_type": "code",
   "execution_count": null,
   "id": "fb978573",
   "metadata": {},
   "outputs": [],
   "source": [
    "drivers_updated.drop(columns=['nationality', 'Nacimiento_y', 'surname'], inplace=True) # Eliminamos la columna 'Driver' si ya no la necesitás"
   ]
  },
  {
   "cell_type": "code",
   "execution_count": null,
   "id": "81e9e8ff",
   "metadata": {},
   "outputs": [],
   "source": [
    "drivers"
   ]
  },
  {
   "cell_type": "markdown",
   "id": "f3e403c1",
   "metadata": {},
   "source": [
    "### Codigo para agregar el Nacimiento a cada piloto desde drivers a driver_updated"
   ]
  },
  {
   "cell_type": "code",
   "execution_count": null,
   "id": "9c1a25fb",
   "metadata": {},
   "outputs": [],
   "source": [
    "import unidecode\n",
    "\n",
    "# Normalizar apellidos en drivers\n",
    "drivers['surname'] = drivers['surname'].str.strip().str.upper()\n",
    "drivers['surname'] = drivers['surname'].apply(unidecode.unidecode)\n",
    "\n",
    "# Extraer y normalizar apellido en drivers_updated\n",
    "drivers_updated['apellido'] = drivers_updated['Driver'].str.split().str[-1].str.strip().str.upper()\n",
    "drivers_updated['apellido'] = drivers_updated['apellido'].apply(unidecode.unidecode)\n",
    "\n",
    "# Verificar que todos los apellidos estén en drivers\n",
    "faltantes = drivers_updated[~drivers_updated['apellido'].isin(drivers['surname'])]\n",
    "if not faltantes.empty:\n",
    "    print(\"Apellidos sin match:\")\n",
    "    print(faltantes['apellido'].unique())\n",
    "\n",
    "# Merge\n",
    "drivers_updated = drivers_updated.merge(\n",
    "    drivers[['surname', 'Nacimiento']],\n",
    "    left_on='apellido',\n",
    "    right_on='surname',\n",
    "    how='left'\n",
    ")\n",
    "\n",
    "# Opcional: borrar la columna auxiliar\n",
    "#drivers_updated.drop(columns=['apellido, 'surname'], inplace=True)\n"
   ]
  },
  {
   "cell_type": "markdown",
   "id": "5c00b301",
   "metadata": {},
   "source": [
    "Codigo para verificar si hay pilotos en drivers que no estan en drivers_updated"
   ]
  },
  {
   "cell_type": "code",
   "execution_count": null,
   "id": "40d6e0a0",
   "metadata": {},
   "outputs": [],
   "source": [
    "faltantes = drivers[~drivers['surname'].isin(drivers_updated['apellido'])] # Verifica si hay apellidos en drivers que no están en drivers_updated\n",
    "if not faltantes.empty:\n",
    "    print(\"Apellidos en drivers que no están en drivers_updated:\")\n",
    "    print(faltantes['surname'].unique())\n",
    "\n",
    "faltantes"
   ]
  },
  {
   "cell_type": "markdown",
   "id": "91cf8c91",
   "metadata": {},
   "source": [
    "### Codigo para agregar a la tabla de 'drivers_updated' los pilotos que faltaban desde 'drivers'"
   ]
  },
  {
   "cell_type": "code",
   "execution_count": null,
   "id": "6a990612",
   "metadata": {},
   "outputs": [],
   "source": [
    "# 1. Identificar pilotos faltantes\n",
    "faltantes = drivers[~drivers['surname'].isin(drivers_updated['apellido'])]\n",
    "\n",
    "# 2. Crear DataFrame en el formato correcto\n",
    "faltantes_formateados = pd.DataFrame({\n",
    "    'Driver': (faltantes['forename'] + ' ' + faltantes['surname']).str.title(),\n",
    "    'Code': faltantes['Code'],\n",
    "    'Nacimiento': faltantes['Nacimiento'],\n",
    "    'nationality': faltantes['nationality'].map({\n",
    "        'Argentine': 'ARG',\n",
    "        'Argentinian': 'ARG',\n",
    "        'Australian': 'AUS',\n",
    "        'British': 'GBR',\n",
    "        'American': 'USA',\n",
    "        'Danish': 'DEN',\n",
    "        'Italian': 'ITA',\n",
    "        'Japanese': 'JPN',\n",
    "        'French': 'FRA',\n",
    "        'German': 'GER',\n",
    "        'Brazilian': 'BRA',\n",
    "        'Spanish': 'ESP',\n",
    "        'Belgian': 'BEL',\n",
    "        'Canadian': 'CAN',\n",
    "        'Dutch': 'NED',\n",
    "        'Indian': 'IND',\n",
    "        'Mexican': 'MEX',\n",
    "        'New Zealander': 'NZL',\n",
    "        'Norwegian': 'NOR',\n",
    "        'Portuguese': 'POR',\n",
    "        'Russian': 'RUS',\n",
    "        'South African': 'RSA',\n",
    "        'Swedish': 'SWE',\n",
    "        'Swiss': 'SUI',\n",
    "        'Thai': 'THA',\n",
    "        'Chinese': 'CHN',\n",
    "        'Colombian': 'COL',\n",
    "        'Czech': 'CZE',\n",
    "        'Hungarian': 'HUN',\n",
    "        'Polish': 'POL',\n",
    "        'Slovak': 'SVK',\n",
    "        'Turkish': 'TUR',\n",
    "        'Ukrainian': 'UKR',\n",
    "        'Venezuelan': 'VEN',\n",
    "    }),\n",
    "    'Car': None,\n",
    "    'PTS': None,\n",
    "    'year': None,\n",
    "    'Final_Pos': None\n",
    "})\n",
    "\n",
    "# 3. Agregar el apellido como columna auxiliar\n",
    "faltantes_formateados['apellido'] = faltantes['surname'].str.strip().str.upper()\n",
    "\n",
    "# 4. Unir al DataFrame original\n",
    "drivers_updated = pd.concat([drivers_updated, faltantes_formateados], ignore_index=True)\n"
   ]
  }
 ],
 "metadata": {
  "kernelspec": {
   "display_name": "Python 3",
   "language": "python",
   "name": "python3"
  },
  "language_info": {
   "codemirror_mode": {
    "name": "ipython",
    "version": 3
   },
   "file_extension": ".py",
   "mimetype": "text/x-python",
   "name": "python",
   "nbconvert_exporter": "python",
   "pygments_lexer": "ipython3",
   "version": "3.13.2"
  }
 },
 "nbformat": 4,
 "nbformat_minor": 5
}
